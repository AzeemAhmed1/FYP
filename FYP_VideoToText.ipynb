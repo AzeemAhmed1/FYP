{
 "cells": [
  {
   "cell_type": "code",
   "execution_count": 1,
   "id": "d48ffdd0",
   "metadata": {},
   "outputs": [],
   "source": [
    "import speech_recognition as sr \n",
    "import os \n",
    "import moviepy.editor as mp\n",
    "from pydub import AudioSegment\n",
    "from pydub.utils import make_chunks"
   ]
  },
  {
   "cell_type": "code",
   "execution_count": 2,
   "id": "4a674194",
   "metadata": {},
   "outputs": [],
   "source": [
    "r = sr.Recognizer()"
   ]
  },
  {
   "cell_type": "code",
   "execution_count": 3,
   "id": "0e5a25bd",
   "metadata": {},
   "outputs": [
    {
     "name": "stderr",
     "output_type": "stream",
     "text": [
      "chunk:   0%|          | 0/6746 [00:00<?, ?it/s, now=None]"
     ]
    },
    {
     "name": "stdout",
     "output_type": "stream",
     "text": [
      "MoviePy - Writing audio in D:\\P1_audio.wav\n"
     ]
    },
    {
     "name": "stderr",
     "output_type": "stream",
     "text": [
      "                                                                      "
     ]
    },
    {
     "name": "stdout",
     "output_type": "stream",
     "text": [
      "MoviePy - Done.\n"
     ]
    },
    {
     "name": "stderr",
     "output_type": "stream",
     "text": [
      "\r"
     ]
    }
   ],
   "source": [
    "clip = mp.VideoFileClip(\"D:\\P1.MP4\")\n",
    "clip.audio.write_audiofile(\"D:\\P1_audio.wav\")"
   ]
  },
  {
   "cell_type": "code",
   "execution_count": 4,
   "id": "44c31674",
   "metadata": {},
   "outputs": [
    {
     "name": "stdout",
     "output_type": "stream",
     "text": [
      "[<pydub.audio_segment.AudioSegment object at 0x00000223D109ED90>, <pydub.audio_segment.AudioSegment object at 0x00000223D109EE20>]\n"
     ]
    }
   ],
   "source": [
    "myaudio = AudioSegment.from_file(\"D:\\P1_audio.wav\" , \"wav\") \n",
    "chunk_length_ms = 180 * 1000 # pydub calculates in millisec\n",
    "chunks = make_chunks(myaudio, chunk_length_ms) #Make chunks of TWO minutes\n",
    "print(chunks)"
   ]
  },
  {
   "cell_type": "code",
   "execution_count": 7,
   "id": "358f5332",
   "metadata": {},
   "outputs": [],
   "source": [
    "whole_text=\"\"\n",
    "for i, audio_chunk in enumerate(chunks, start=1):\n",
    "        # export audio chunk and save it in\n",
    "        # the `folder_name` directory.\n",
    "        chunk_filename = os.path.join(f\"chunk{i}.wav\")\n",
    "        audio_chunk.export(chunk_filename, format=\"wav\")\n",
    "        # recognize the chunk\n",
    "        with sr.AudioFile(chunk_filename) as source:\n",
    "            audio_listened = r.record(source)\n",
    "            # try converting it to text\n",
    "            try:\n",
    "                text = r.recognize_google(audio_listened)\n",
    "            except sr.UnknownValueError as e:\n",
    "                print(\"Error:\", str(e))\n",
    "            else:\n",
    "                text = f\"{text.capitalize()}. \"\n",
    "                #print(chunk_filename, \":\", text)\n",
    "                whole_text += text\n",
    "                \n",
    "        os.remove(chunk_filename)"
   ]
  },
  {
   "cell_type": "code",
   "execution_count": 8,
   "id": "e1ad826f",
   "metadata": {},
   "outputs": [
    {
     "name": "stdout",
     "output_type": "stream",
     "text": [
      "If you live in new york london or some other so-called cultural capital is likely that you visited and optimism that features a collection of african art is collections usually consists of masks and sculptures were also include weapons and ceremonial dress cutlery jewelry and even toys use of the exam markers of traditions and culture of these are also about attention and ingenuity science and spirituality cultural objects are the way that human beings se we were here ever wondered how is african objects and other museums summer boats by three doesn't there is some gifts exchanged in excess of friendship and some were excavated in r illogical things then there are many hours it during race confiscated by clonal forces and stolen at gunpoint an artists and i tell stories for living to tell stories in imagination and memory and in can you have a gap no memory so much what happened in between the late 1800s and silai independence in 1963 is missing because too many of the object tell the story is true that period are gone according to a 2018 report on african cultural heritage 90% of sub-saharan africa's material cultural legacy is house outside the african continent what does it mean for society to lose so many objects in sap for gets a religious and spiritual practices in means of you forget the names of our kingdoms and heroes amazing forget on music and craft in all languages if you get a stories another source we adopt other people's allegiance and call old engines witchcraft izzat it burgers and faster and looked down on indigenous foods and her children begin to believe in the hearts that other societies have reached our culture when you begin to fix something like this on this started find out exactly which object from using and were there in 2013 as a member of the nurse collective and together the collision of indian and european museums artist and researchers he co-founded the international inventories program which began creating a database of king and cultural objects are held outside our country because the museum's across north america and europe asking them if they had any indian cultural objects in the collections of the public debates about object restitution and created exhibition to win the debate. The public sphere is the easy but the more difficult path for asking and was having to read through the most troubling historical texts and records how much time in history when africans were on the receiving end of colonial force violence and discrimination was texts are still difficult to read even today in two years we collect the data more than 30 2008 held by these institutions that might seem like a huge number of there are many other decisions that haven't replied to a request and that's just can you they are 46 other countries in sub-saharan africa that of experience similar extraction of objects or next step is to publish this database online so the data is accessible community leaders were complaining of the return of sikander objects are also for every teacher research and citizen want to find out what we are missing and where can be found in the only eva kind across africa and asia there are other projects asking similar questions about their cultural heritage i hope that we can provoke institutions in north america and europe to rethink the morality of their collections we ask them to account for the violent histories of some of the objects in their collections by labelling the collections more truthfully we ask in a return object property acquired back to the community that need them we are still have to trust african museums to store objects on behalf of the people of africa that can be no collective identity without collective memory soya asking for objects to help us remember who we thank you. \n"
     ]
    }
   ],
   "source": [
    "print(whole_text)"
   ]
  },
  {
   "cell_type": "code",
   "execution_count": 20,
   "id": "1aa66ed7",
   "metadata": {},
   "outputs": [
    {
     "name": "stdout",
     "output_type": "stream",
     "text": [
      "Now the file is ready...\n"
     ]
    }
   ],
   "source": [
    "with open (\"D:\\P1.txt\", mode=\"w\") as file:\n",
    "    file.write(\"Speech Recognized \")\n",
    "    file.write(\"\\n\")\n",
    "    file.write(whole_text)\n",
    "    print (\"Now the file is ready...\")"
   ]
  },
  {
   "cell_type": "code",
   "execution_count": null,
   "id": "4784e792",
   "metadata": {},
   "outputs": [],
   "source": []
  }
 ],
 "metadata": {
  "kernelspec": {
   "display_name": "Python 3",
   "language": "python",
   "name": "python3"
  },
  "language_info": {
   "codemirror_mode": {
    "name": "ipython",
    "version": 3
   },
   "file_extension": ".py",
   "mimetype": "text/x-python",
   "name": "python",
   "nbconvert_exporter": "python",
   "pygments_lexer": "ipython3",
   "version": "3.8.8"
  }
 },
 "nbformat": 4,
 "nbformat_minor": 5
}
